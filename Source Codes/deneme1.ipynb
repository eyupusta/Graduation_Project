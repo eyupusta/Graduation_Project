{
 "cells": [
  {
   "cell_type": "code",
   "execution_count": 1,
   "metadata": {},
   "outputs": [],
   "source": [
    "import numpy as np \n",
    "import pandas as pd \n",
    "from sklearn.metrics import accuracy_score\n",
    "from sklearn.model_selection import train_test_split\n",
    "import statsmodels.api as sm \n",
    "from sklearn.utils import shuffle \n",
    "from collections import Counter \n",
    "import matplotlib.pyplot as plt\n",
    "import seaborn as sns\n",
    "from sklearn.metrics import confusion_matrix\n",
    "import keras\n",
    "from keras.utils import to_categorical\n",
    "import os\n",
    "from keras.layers import *\n",
    "from tensorflow.keras.layers import Dropout\n",
    "from tensorflow.keras.regularizers import l2\n",
    "from keras.models import Sequential, Model\n",
    "from keras import optimizers"
   ]
  },
  {
   "cell_type": "code",
   "execution_count": 2,
   "metadata": {},
   "outputs": [],
   "source": [
    "def parse_arff(filename):\n",
    "\ttry:\n",
    "\t\tfile = open(filename)\n",
    "\texcept:\n",
    "\t\tprint('file could not found or opened, try with file location')\n",
    "\tcolumns = []\n",
    "\tdata = []\n",
    "\n",
    "\tfor line in file:\n",
    "\t\tif line.startswith('@attribute'):\n",
    "\t\t\tline = line.strip()\n",
    "\t\t\ttemp = line.split()\n",
    "\t\t\tcolumns.append(temp[1])\n",
    "\t\telif line.startswith('@') or line.startswith('\\n'):\n",
    "\t\t\tcontinue\n",
    "\t\telse:\n",
    "\t\t\tline = line.strip()\n",
    "\t\t\ttemp = line.split(',')\n",
    "\t\t\tdata.append(temp)\n",
    "\n",
    "\treturn data,columns"
   ]
  },
  {
   "cell_type": "code",
   "execution_count": 3,
   "metadata": {},
   "outputs": [],
   "source": [
    "data, columns = parse_arff('./data/Phishing_Legitimate_full.arff')\n",
    "phishing_legitimate_full = pd.DataFrame(data, columns = columns, dtype=np.int8)\n",
    "data, columns = parse_arff('./data/Training Dataset.arff')\n",
    "training_dataset = pd.DataFrame(data, columns = columns, dtype=np.int8)\n",
    "datasetcsv = pd.read_csv('./data/Dataset.csv')\n",
    "TextFrameImage_features_new = pd.read_csv('./data/TextFrameImage Features_new.csv')\n",
    "dataset_b = pd.read_csv('./data/dataset_B_05_2020.csv')\n",
    "ISCXURL2016 = pd.read_csv('./data/Canadian Institute for Cybersecurity/Phishing.csv')\n",
    "phishingcsv = pd.read_csv('./data/phishing.csv')"
   ]
  },
  {
   "cell_type": "code",
   "execution_count": 4,
   "metadata": {},
   "outputs": [],
   "source": [
    "loss_fn = keras.losses.Huber(delta=1.0)\n",
    "activation = ['softplus', 'softsign', 'selu', 'elu', 'exponential', 'tanh', 'sigmoid', 'relu']\n",
    "optimizers = ['sgd', 'rmsprop', 'adam', 'adadelta', 'adagrad', 'adamax', 'nadam', 'ftrl']\n",
    "binary_loss = ['binary_crossentropy', 'hinge', 'squared_hinge', loss_fn]"
   ]
  },
  {
   "cell_type": "code",
   "execution_count": 5,
   "metadata": {},
   "outputs": [],
   "source": [
    "x_train, x_test, y_train, y_test = train_test_split(training_dataset[training_dataset.columns[:-1]],training_dataset[training_dataset.columns[-1]], test_size = 0.3)\n",
    "y_train = np.where(y_train == -1, 0, y_train)\n",
    "y_test = np.where(y_test == -1, 0, y_test)\n",
    "x_train = np.array(x_train).astype(np.int8)\n",
    "y_train = np.array(y_train).astype(np.int8)\n",
    "x_test = np.array(x_test).astype(np.int8)\n",
    "y_test = np.array(y_test).astype(np.int8)"
   ]
  },
  {
   "cell_type": "code",
   "execution_count": 9,
   "metadata": {},
   "outputs": [],
   "source": [
    "model = 'safa'\n",
    "model = keras.Sequential()\n",
    "model.add(keras.layers.Conv2D(64,(1,1), activation='relu',input_shape=(3, 2, 5)))\n",
    "model.add(keras.layers.MaxPool2D(2,2))\n",
    "model.add(keras.layers.Conv2D(128,(1,1),activation='relu'))\n",
    "model.add(keras.layers.Conv2D(128,(1,1),activation='relu'))\n",
    "model.add(keras.layers.Dropout(0.2))\n",
    "model.add(keras.layers.Flatten())\n",
    "model.add(keras.layers.Dense(128,activation='relu'))\n",
    "model.add(keras.layers.Dense(128,activation='relu'))\n",
    "model.add(keras.layers.Dropout(0.2))\n",
    "model.add(keras.layers.Dense(16,activation='relu'))\n",
    "model.add(keras.layers.Reshape((1, 16)))\n",
    "model.add(keras.layers.LSTM(64, activation='relu',return_sequences=True, input_shape=(1,16)))\n",
    "model.add(keras.layers.LSTM(128, activation='relu'))\n",
    "model.add(keras.layers.Dense(128, activation='relu'))\n",
    "model.add(keras.layers.Dense(64 ,activation='relu'))\n",
    "model.add(keras.layers.Dropout(0.2))\n",
    "model.add(keras.layers.Dense(1,activation='tanh'))"
   ]
  },
  {
   "cell_type": "code",
   "execution_count": null,
   "metadata": {},
   "outputs": [
    {
     "name": "stdout",
     "output_type": "stream",
     "text": [
      "Epoch 1/20\n",
      "242/242 [==============================] - 2s 9ms/step - loss: 0.3207 - accuracy: 0.3239 - val_loss: 0.1985 - val_accuracy: 0.4160\n",
      "Epoch 2/20\n",
      "242/242 [==============================] - 1s 6ms/step - loss: 0.1813 - accuracy: 0.4583 - val_loss: 0.1792 - val_accuracy: 0.4703\n",
      "Epoch 3/20\n",
      "242/242 [==============================] - 2s 7ms/step - loss: 0.1672 - accuracy: 0.4718 - val_loss: 0.1654 - val_accuracy: 0.4631\n",
      "Epoch 4/20\n",
      "242/242 [==============================] - 2s 7ms/step - loss: 0.1536 - accuracy: 0.4827 - val_loss: 0.1602 - val_accuracy: 0.4980\n",
      "Epoch 5/20\n",
      "242/242 [==============================] - 2s 7ms/step - loss: 0.1444 - accuracy: 0.4911 - val_loss: 0.1594 - val_accuracy: 0.5134\n",
      "Epoch 6/20\n",
      "242/242 [==============================] - 2s 7ms/step - loss: 0.1379 - accuracy: 0.4941 - val_loss: 0.1491 - val_accuracy: 0.4688\n",
      "Epoch 7/20\n",
      "242/242 [==============================] - 2s 6ms/step - loss: 0.1372 - accuracy: 0.4937 - val_loss: 0.1560 - val_accuracy: 0.5167\n",
      "Epoch 8/20\n",
      "242/242 [==============================] - 2s 6ms/step - loss: 0.1274 - accuracy: 0.5049 - val_loss: 0.1627 - val_accuracy: 0.5264\n",
      "Epoch 9/20\n",
      "242/242 [==============================] - 2s 8ms/step - loss: 0.1206 - accuracy: 0.5076 - val_loss: 0.1382 - val_accuracy: 0.5065\n",
      "Epoch 10/20\n",
      "242/242 [==============================] - 2s 7ms/step - loss: 0.1186 - accuracy: 0.5114 - val_loss: 0.1347 - val_accuracy: 0.5053\n",
      "Epoch 11/20\n",
      "242/242 [==============================] - 2s 7ms/step - loss: 0.1180 - accuracy: 0.5112 - val_loss: 0.1339 - val_accuracy: 0.5158\n",
      "Epoch 12/20\n",
      "242/242 [==============================] - 1s 6ms/step - loss: 0.1088 - accuracy: 0.5158 - val_loss: 0.1399 - val_accuracy: 0.5234\n",
      "Epoch 13/20\n",
      " 79/242 [========>.....................] - ETA: 0s - loss: 0.1132 - accuracy: 0.5079"
     ]
    }
   ],
   "source": [
    "x = x_train.reshape((x_train.shape[0], 3, 2, 5))\n",
    "xt = x_test.reshape((x_test.shape[0], 3, 2, 5))\n",
    "\n",
    "model.compile(loss=loss_fn, optimizer='adamax', metrics=['accuracy'])\n",
    "modelhistory = model.fit(x, y_train, epochs = 20, validation_data=(xt, y_test))"
   ]
  },
  {
   "cell_type": "code",
   "execution_count": null,
   "metadata": {},
   "outputs": [],
   "source": [
    "model = keras.Sequential()\n",
    "model.add(Dense(64, input_shape = (31,),  activation='relu'))\n",
    "model.add(Dense(128, activation='relu'))\n",
    "model.add(Dense(128, activation='relu'))\n",
    "model.add(Dense(64,  activation='relu'))\n",
    "model.add(Dense(1,activation='tanh'))\n",
    "\n",
    "model.compile(loss=loss_fn, optimizer='adamax', metrics=['accuracy'])\n",
    "modelhistory = model.fit(x_train, y_train, epochs = 20, validation_data=(x_test, y_test))"
   ]
  },
  {
   "cell_type": "code",
   "execution_count": null,
   "metadata": {},
   "outputs": [],
   "source": [
    "x = x_train.reshape((x_train.shape[0], 1, 31))\n",
    "xx = x_test.reshape((x_test.shape[0], 1, 31))\n",
    "\n",
    "model = keras.Sequential()\n",
    "model.add(keras.layers.LSTM(64, activation='relu',return_sequences=True, input_shape=(1,31)))\n",
    "model.add(keras.layers.LSTM(128, activation='relu'))\n",
    "model.add(keras.layers.Dense(128, activation='relu'))\n",
    "model.add(keras.layers.Dense(64 ,activation='relu'))\n",
    "model.add(keras.layers.Dropout(0.2))\n",
    "model.add(keras.layers.Dense(1,activation='softplus'))\n",
    "\n",
    "model.compile(loss=loss_fn, optimizer='adamax', metrics=['accuracy'])\n",
    "modelhistory = model.fit(x, y_train, epochs = 20, validation_data=(xx, y_test))"
   ]
  },
  {
   "cell_type": "code",
   "execution_count": null,
   "metadata": {},
   "outputs": [],
   "source": [
    "x = x_train.reshape((x_train.shape[0], 31, 1, 1))\n",
    "xt = x_test.reshape((x_test.shape[0], 31, 1, 1))\n",
    "\n",
    "model = keras.Sequential()\n",
    "model.add(keras.layers.Conv2D(64,(1,1), activation='relu',input_shape=(31, 1, 1)))\n",
    "model.add(keras.layers.MaxPool2D(1,1))\n",
    "model.add(keras.layers.Conv2D(128,(1,1),activation='relu'))\n",
    "model.add(keras.layers.Conv2D(128,(1,1),activation='relu'))\n",
    "model.add(keras.layers.Dropout(0.2))\n",
    "model.add(keras.layers.Flatten())\n",
    "model.add(keras.layers.Dense(128,activation='relu'))\n",
    "model.add(keras.layers.Dense(128,activation='relu'))\n",
    "model.add(keras.layers.Dropout(0.2))\n",
    "model.add(keras.layers.Dense(1,activation='tanh'))\n",
    "\n",
    "model.compile(loss=loss_fn, optimizer='adamax', metrics=['accuracy'])\n",
    "modelhistory = model.fit(x, y_train, epochs = 20, validation_data=(xt, y_test))"
   ]
  },
  {
   "cell_type": "code",
   "execution_count": null,
   "metadata": {},
   "outputs": [],
   "source": []
  },
  {
   "cell_type": "code",
   "execution_count": null,
   "metadata": {},
   "outputs": [],
   "source": []
  },
  {
   "cell_type": "code",
   "execution_count": null,
   "metadata": {},
   "outputs": [],
   "source": []
  }
 ],
 "metadata": {
  "kernelspec": {
   "display_name": "Python 3",
   "language": "python",
   "name": "python3"
  },
  "language_info": {
   "codemirror_mode": {
    "name": "ipython",
    "version": 3
   },
   "file_extension": ".py",
   "mimetype": "text/x-python",
   "name": "python",
   "nbconvert_exporter": "python",
   "pygments_lexer": "ipython3",
   "version": "3.8.5"
  }
 },
 "nbformat": 4,
 "nbformat_minor": 4
}
