{
 "cells": [
  {
   "cell_type": "code",
   "execution_count": 1,
   "metadata": {},
   "outputs": [],
   "source": [
    "import numpy as np \n",
    "import pandas as pd \n",
    "from sklearn.metrics import accuracy_score\n",
    "from sklearn.model_selection import train_test_split\n",
    "import statsmodels.api as sm \n",
    "from sklearn.utils import shuffle \n",
    "from collections import Counter \n",
    "import matplotlib.pyplot as plt\n",
    "import seaborn as sns\n",
    "from sklearn.metrics import confusion_matrix\n",
    "import keras\n",
    "from keras.utils import to_categorical\n",
    "import os\n",
    "from keras.layers import *\n",
    "from tensorflow.keras.layers import Dropout\n",
    "from tensorflow.keras.regularizers import l2\n",
    "from keras.models import Sequential, Model\n",
    "from keras import optimizers"
   ]
  },
  {
   "cell_type": "code",
   "execution_count": 2,
   "metadata": {},
   "outputs": [],
   "source": [
    "def parse_arff(filename):\n",
    "\ttry:\n",
    "\t\tfile = open(filename)\n",
    "\texcept:\n",
    "\t\tprint('file could not found or opened, try with file location')\n",
    "\tcolumns = []\n",
    "\tdata = []\n",
    "\n",
    "\tfor line in file:\n",
    "\t\tif line.startswith('@attribute'):\n",
    "\t\t\tline = line.strip()\n",
    "\t\t\ttemp = line.split()\n",
    "\t\t\tcolumns.append(temp[1])\n",
    "\t\telif line.startswith('@') or line.startswith('\\n'):\n",
    "\t\t\tcontinue\n",
    "\t\telse:\n",
    "\t\t\tline = line.strip()\n",
    "\t\t\ttemp = line.split(',')\n",
    "\t\t\tdata.append(temp)\n",
    "\n",
    "\treturn data,columns"
   ]
  },
  {
   "cell_type": "code",
   "execution_count": 3,
   "metadata": {},
   "outputs": [],
   "source": [
    "data, columns = parse_arff('./data/Phishing_Legitimate_full.arff')\n",
    "phishing_legitimate_full = pd.DataFrame(data, columns = columns, dtype=np.int8)\n",
    "data, columns = parse_arff('./data/Training Dataset.arff')\n",
    "training_dataset = pd.DataFrame(data, columns = columns, dtype=np.int8)\n",
    "datasetcsv = pd.read_csv('./data/Dataset.csv')\n",
    "TextFrameImage_features_new = pd.read_csv('./data/TextFrameImage Features_new.csv')\n",
    "dataset_b = pd.read_csv('./data/dataset_B_05_2020.csv')\n",
    "ISCXURL2016 = pd.read_csv('./data/Canadian Institute for Cybersecurity/Phishing.csv')\n",
    "phishingcsv = pd.read_csv('./data/phishing.csv')"
   ]
  },
  {
   "cell_type": "code",
   "execution_count": 4,
   "metadata": {},
   "outputs": [],
   "source": [
    "loss_fn = keras.losses.Huber(delta=1.0)\n",
    "activation = ['softplus', 'softsign', 'selu', 'elu', 'exponential', 'tanh', 'sigmoid', 'relu']\n",
    "optimizers = ['sgd', 'rmsprop', 'adam', 'adadelta', 'adagrad', 'adamax', 'nadam', 'ftrl']\n",
    "binary_loss = ['binary_crossentropy', 'hinge', 'squared_hinge', loss_fn]"
   ]
  },
  {
   "cell_type": "code",
   "execution_count": 5,
   "metadata": {},
   "outputs": [],
   "source": [
    "x_train, x_test, y_train, y_test = train_test_split(training_dataset[training_dataset.columns[:-1]],training_dataset[training_dataset.columns[-1]], test_size = 0.3)\n",
    "y_train = np.where(y_train == -1, 0, y_train)\n",
    "y_test = np.where(y_test == -1, 0, y_test)\n",
    "x_train = np.array(x_train).astype(np.int8)\n",
    "y_train = np.array(y_train).astype(np.int8)\n",
    "x_test = np.array(x_test).astype(np.int8)\n",
    "y_test = np.array(y_test).astype(np.int8)"
   ]
  },
  {
   "cell_type": "code",
   "execution_count": null,
   "metadata": {},
   "outputs": [],
   "source": []
  },
  {
   "cell_type": "code",
   "execution_count": null,
   "metadata": {},
   "outputs": [],
   "source": []
  },
  {
   "cell_type": "code",
   "execution_count": null,
   "metadata": {},
   "outputs": [],
   "source": []
  },
  {
   "cell_type": "code",
   "execution_count": null,
   "metadata": {},
   "outputs": [],
   "source": []
  }
 ],
 "metadata": {
  "kernelspec": {
   "display_name": "Python 3",
   "language": "python",
   "name": "python3"
  },
  "language_info": {
   "codemirror_mode": {
    "name": "ipython",
    "version": 3
   },
   "file_extension": ".py",
   "mimetype": "text/x-python",
   "name": "python",
   "nbconvert_exporter": "python",
   "pygments_lexer": "ipython3",
   "version": "3.8.5"
  }
 },
 "nbformat": 4,
 "nbformat_minor": 4
}
